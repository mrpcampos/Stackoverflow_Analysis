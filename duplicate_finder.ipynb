{
 "cells": [
  {
   "cell_type": "markdown",
   "source": [
    "# Predicting tags on Stack Overflow's Python questions\n",
    "\n",
    "## Problem definition\n",
    "\n",
    "The goal of this model is to predict which tags beyond python\n",
    "can be assigned to a given python question.\n",
    "\n",
    "## Dataset used\n",
    "\n",
    "The dataset used on this model comes from the official Stack Overflow contains only python\n",
    "questions from 2015, that contains the title, body and assigned tags.\n",
    "\n",
    "The query used to fetch the data can be accessed [here](https://data.stackexchange.com/stackoverflow/query/1317705).\n",
    "\n",
    "\n",
    "### Below there's a overview of how the dataset looks"
   ],
   "metadata": {
    "collapsed": false
   }
  },
  {
   "cell_type": "code",
   "execution_count": 20,
   "metadata": {
    "collapsed": true,
    "pycharm": {
     "name": "#%%\n"
    }
   },
   "outputs": [
    {
     "data": {
      "text/plain": "         Id  PostTypeId  AcceptedAnswerId  ParentId         CreationDate  \\\n0  33054527           1        33054552.0       NaN  2015-10-10 13:28:09   \n1  29846087           1               NaN       NaN  2015-04-24 11:16:44   \n2  42339876           1        42340744.0       NaN  2017-02-20 08:43:18   \n\n   DeletionDate  Score  ViewCount  \\\n0           NaN    648    1269290   \n1           NaN    271     772140   \n2           NaN    187     629114   \n\n                                                Body  OwnerUserId  ...  \\\n0  <p>I've very recently migrated to Py 3.5.\\nThi...    1656343.0  ...   \n1  <p>I've installed Python 3.5 and while running...     268598.0  ...   \n2  <p><a href=\"https://github.com/affinelayer/pix...    7580060.0  ...   \n\n      LastActivityDate                                              Title  \\\n0  2020-09-12 09:40:46  TypeError: a bytes-like object is required, no...   \n1  2020-10-23 23:33:38  Microsoft Visual C++ 14.0 is required (Unable ...   \n2  2020-09-23 23:09:28  error UnicodeDecodeError: 'utf-8' codec can't ...   \n\n                                       Tags AnswerCount CommentCount  \\\n0  <python><python-3.x><string><file><byte>           9            4   \n1          <python><python-3.x><visual-c++>          30           11   \n2               <python><python-3.x><utf-8>          17            0   \n\n  FavoriteCount ClosedDate  CommunityOwnedDate  ContentLicense  isPandas  \n0         101.0        NaN                 NaN    CC BY-SA 4.0         0  \n1         121.0        NaN                 NaN    CC BY-SA 4.0         0  \n2          41.0        NaN                 NaN    CC BY-SA 3.0         0  \n\n[3 rows x 24 columns]",
      "text/html": "<div>\n<style scoped>\n    .dataframe tbody tr th:only-of-type {\n        vertical-align: middle;\n    }\n\n    .dataframe tbody tr th {\n        vertical-align: top;\n    }\n\n    .dataframe thead th {\n        text-align: right;\n    }\n</style>\n<table border=\"1\" class=\"dataframe\">\n  <thead>\n    <tr style=\"text-align: right;\">\n      <th></th>\n      <th>Id</th>\n      <th>PostTypeId</th>\n      <th>AcceptedAnswerId</th>\n      <th>ParentId</th>\n      <th>CreationDate</th>\n      <th>DeletionDate</th>\n      <th>Score</th>\n      <th>ViewCount</th>\n      <th>Body</th>\n      <th>OwnerUserId</th>\n      <th>...</th>\n      <th>LastActivityDate</th>\n      <th>Title</th>\n      <th>Tags</th>\n      <th>AnswerCount</th>\n      <th>CommentCount</th>\n      <th>FavoriteCount</th>\n      <th>ClosedDate</th>\n      <th>CommunityOwnedDate</th>\n      <th>ContentLicense</th>\n      <th>isPandas</th>\n    </tr>\n  </thead>\n  <tbody>\n    <tr>\n      <th>0</th>\n      <td>33054527</td>\n      <td>1</td>\n      <td>33054552.0</td>\n      <td>NaN</td>\n      <td>2015-10-10 13:28:09</td>\n      <td>NaN</td>\n      <td>648</td>\n      <td>1269290</td>\n      <td>&lt;p&gt;I've very recently migrated to Py 3.5.\\nThi...</td>\n      <td>1656343.0</td>\n      <td>...</td>\n      <td>2020-09-12 09:40:46</td>\n      <td>TypeError: a bytes-like object is required, no...</td>\n      <td>&lt;python&gt;&lt;python-3.x&gt;&lt;string&gt;&lt;file&gt;&lt;byte&gt;</td>\n      <td>9</td>\n      <td>4</td>\n      <td>101.0</td>\n      <td>NaN</td>\n      <td>NaN</td>\n      <td>CC BY-SA 4.0</td>\n      <td>0</td>\n    </tr>\n    <tr>\n      <th>1</th>\n      <td>29846087</td>\n      <td>1</td>\n      <td>NaN</td>\n      <td>NaN</td>\n      <td>2015-04-24 11:16:44</td>\n      <td>NaN</td>\n      <td>271</td>\n      <td>772140</td>\n      <td>&lt;p&gt;I've installed Python 3.5 and while running...</td>\n      <td>268598.0</td>\n      <td>...</td>\n      <td>2020-10-23 23:33:38</td>\n      <td>Microsoft Visual C++ 14.0 is required (Unable ...</td>\n      <td>&lt;python&gt;&lt;python-3.x&gt;&lt;visual-c++&gt;</td>\n      <td>30</td>\n      <td>11</td>\n      <td>121.0</td>\n      <td>NaN</td>\n      <td>NaN</td>\n      <td>CC BY-SA 4.0</td>\n      <td>0</td>\n    </tr>\n    <tr>\n      <th>2</th>\n      <td>42339876</td>\n      <td>1</td>\n      <td>42340744.0</td>\n      <td>NaN</td>\n      <td>2017-02-20 08:43:18</td>\n      <td>NaN</td>\n      <td>187</td>\n      <td>629114</td>\n      <td>&lt;p&gt;&lt;a href=\"https://github.com/affinelayer/pix...</td>\n      <td>7580060.0</td>\n      <td>...</td>\n      <td>2020-09-23 23:09:28</td>\n      <td>error UnicodeDecodeError: 'utf-8' codec can't ...</td>\n      <td>&lt;python&gt;&lt;python-3.x&gt;&lt;utf-8&gt;</td>\n      <td>17</td>\n      <td>0</td>\n      <td>41.0</td>\n      <td>NaN</td>\n      <td>NaN</td>\n      <td>CC BY-SA 3.0</td>\n      <td>0</td>\n    </tr>\n  </tbody>\n</table>\n<p>3 rows × 24 columns</p>\n</div>"
     },
     "execution_count": 20,
     "metadata": {},
     "output_type": "execute_result"
    }
   ],
   "source": [
    "import pandas as pd\n",
    "\n",
    "\n",
    "df = pd.read_csv(\"QueryResultsIsPandas.csv\", sep=\",\")\n",
    "df.head(3)"
   ]
  },
  {
   "cell_type": "markdown",
   "source": [
    "## Exploratory Analysis\n",
    "\n",
    "Body length distribution:"
   ],
   "metadata": {
    "collapsed": false
   }
  },
  {
   "cell_type": "code",
   "execution_count": 21,
   "outputs": [
    {
     "name": "stderr",
     "output_type": "stream",
     "text": [
      "/home/eduardo/PycharmProjects/DataMining/venv/lib/python3.8/site-packages/seaborn/distributions.py:2551: FutureWarning: `distplot` is a deprecated function and will be removed in a future version. Please adapt your code to use either `displot` (a figure-level function with similar flexibility) or `histplot` (an axes-level function for histograms).\n",
      "  warnings.warn(msg, FutureWarning)\n"
     ]
    },
    {
     "data": {
      "text/plain": "<Figure size 921.6x432 with 1 Axes>",
      "image/png": "[encoded data removed]"
     },
     "metadata": {
      "needs_background": "light"
     },
     "output_type": "display_data"
    }
   ],
   "source": [
    "import matplotlib.pyplot as plt\n",
    "import seaborn as sns\n",
    "\n",
    "\n",
    "df['BodyLength'] = df['Body'].str.len()\n",
    "\n",
    "plt.figure(figsize=(12.8,6))\n",
    "sns.distplot(df['BodyLength']).set_title('Body length distribution');"
   ],
   "metadata": {
    "collapsed": false,
    "pycharm": {
     "name": "#%%\n"
    }
   }
  },
  {
   "cell_type": "markdown",
   "source": [
    "From the body length distribution plot, the majority of the questions body\n",
    "has less than 5000 characters, so let's focus on the first 95% percentile."
   ],
   "metadata": {
    "collapsed": false
   }
  },
  {
   "cell_type": "code",
   "execution_count": 22,
   "outputs": [
    {
     "name": "stderr",
     "output_type": "stream",
     "text": [
      "/home/eduardo/PycharmProjects/DataMining/venv/lib/python3.8/site-packages/seaborn/distributions.py:2551: FutureWarning: `distplot` is a deprecated function and will be removed in a future version. Please adapt your code to use either `displot` (a figure-level function with similar flexibility) or `histplot` (an axes-level function for histograms).\n",
      "  warnings.warn(msg, FutureWarning)\n"
     ]
    },
    {
     "data": {
      "text/plain": "<Figure size 921.6x432 with 1 Axes>",
      "image/png": "[encoded data removed]"
     },
     "metadata": {
      "needs_background": "light"
     },
     "output_type": "display_data"
    }
   ],
   "source": [
    "quantile_95 = df['BodyLength'].quantile(0.95)\n",
    "df_95 = df[df['BodyLength'] < quantile_95]\n",
    "plt.figure(figsize=(12.8,6))\n",
    "sns.distplot(df_95['BodyLength']).set_title('Body length distribution');"
   ],
   "metadata": {
    "collapsed": false,
    "pycharm": {
     "name": "#%%\n"
    }
   }
  },
  {
   "cell_type": "code",
   "execution_count": 23,
   "outputs": [],
   "source": [
    "## Text Cleaning\n"
   ],
   "metadata": {
    "collapsed": false,
    "pycharm": {
     "name": "#%%\n"
    }
   }
  },
  {
   "cell_type": "code",
   "execution_count": 24,
   "outputs": [
    {
     "data": {
      "text/plain": "         Id  PostTypeId  AcceptedAnswerId  ParentId         CreationDate  \\\n0  33054527           1        33054552.0       NaN  2015-10-10 13:28:09   \n1  29846087           1               NaN       NaN  2015-04-24 11:16:44   \n2  42339876           1        42340744.0       NaN  2017-02-20 08:43:18   \n\n   DeletionDate  Score  ViewCount  \\\n0           NaN    648    1269290   \n1           NaN    271     772140   \n2           NaN    187     629114   \n\n                                                Body  OwnerUserId  ...  \\\n0  i ve very recently migrated to py 3 5  this co...    1656343.0  ...   \n1  i ve installed python 3 5 and while running  p...     268598.0  ...   \n2  https   github com affinelayer pix2pix tensorf...    7580060.0  ...   \n\n                                               Title  \\\n0  TypeError: a bytes-like object is required, no...   \n1  Microsoft Visual C++ 14.0 is required (Unable ...   \n2  error UnicodeDecodeError: 'utf-8' codec can't ...   \n\n                                       Tags AnswerCount CommentCount  \\\n0  (python, python-3.x, string, file, byte)           9            4   \n1          (python, python-3.x, visual-c++)          30           11   \n2               (python, python-3.x, utf-8)          17            0   \n\n  FavoriteCount ClosedDate CommunityOwnedDate  ContentLicense  isPandas  \\\n0         101.0        NaN                NaN    CC BY-SA 4.0         0   \n1         121.0        NaN                NaN    CC BY-SA 4.0         0   \n2          41.0        NaN                NaN    CC BY-SA 3.0         0   \n\n   BodyLength  \n0         787  \n1         690  \n2        1007  \n\n[3 rows x 25 columns]",
      "text/html": "<div>\n<style scoped>\n    .dataframe tbody tr th:only-of-type {\n        vertical-align: middle;\n    }\n\n    .dataframe tbody tr th {\n        vertical-align: top;\n    }\n\n    .dataframe thead th {\n        text-align: right;\n    }\n</style>\n<table border=\"1\" class=\"dataframe\">\n  <thead>\n    <tr style=\"text-align: right;\">\n      <th></th>\n      <th>Id</th>\n      <th>PostTypeId</th>\n      <th>AcceptedAnswerId</th>\n      <th>ParentId</th>\n      <th>CreationDate</th>\n      <th>DeletionDate</th>\n      <th>Score</th>\n      <th>ViewCount</th>\n      <th>Body</th>\n      <th>OwnerUserId</th>\n      <th>...</th>\n      <th>Title</th>\n      <th>Tags</th>\n      <th>AnswerCount</th>\n      <th>CommentCount</th>\n      <th>FavoriteCount</th>\n      <th>ClosedDate</th>\n      <th>CommunityOwnedDate</th>\n      <th>ContentLicense</th>\n      <th>isPandas</th>\n      <th>BodyLength</th>\n    </tr>\n  </thead>\n  <tbody>\n    <tr>\n      <th>0</th>\n      <td>33054527</td>\n      <td>1</td>\n      <td>33054552.0</td>\n      <td>NaN</td>\n      <td>2015-10-10 13:28:09</td>\n      <td>NaN</td>\n      <td>648</td>\n      <td>1269290</td>\n      <td>i ve very recently migrated to py 3 5  this co...</td>\n      <td>1656343.0</td>\n      <td>...</td>\n      <td>TypeError: a bytes-like object is required, no...</td>\n      <td>(python, python-3.x, string, file, byte)</td>\n      <td>9</td>\n      <td>4</td>\n      <td>101.0</td>\n      <td>NaN</td>\n      <td>NaN</td>\n      <td>CC BY-SA 4.0</td>\n      <td>0</td>\n      <td>787</td>\n    </tr>\n    <tr>\n      <th>1</th>\n      <td>29846087</td>\n      <td>1</td>\n      <td>NaN</td>\n      <td>NaN</td>\n      <td>2015-04-24 11:16:44</td>\n      <td>NaN</td>\n      <td>271</td>\n      <td>772140</td>\n      <td>i ve installed python 3 5 and while running  p...</td>\n      <td>268598.0</td>\n      <td>...</td>\n      <td>Microsoft Visual C++ 14.0 is required (Unable ...</td>\n      <td>(python, python-3.x, visual-c++)</td>\n      <td>30</td>\n      <td>11</td>\n      <td>121.0</td>\n      <td>NaN</td>\n      <td>NaN</td>\n      <td>CC BY-SA 4.0</td>\n      <td>0</td>\n      <td>690</td>\n    </tr>\n    <tr>\n      <th>2</th>\n      <td>42339876</td>\n      <td>1</td>\n      <td>42340744.0</td>\n      <td>NaN</td>\n      <td>2017-02-20 08:43:18</td>\n      <td>NaN</td>\n      <td>187</td>\n      <td>629114</td>\n      <td>https   github com affinelayer pix2pix tensorf...</td>\n      <td>7580060.0</td>\n      <td>...</td>\n      <td>error UnicodeDecodeError: 'utf-8' codec can't ...</td>\n      <td>(python, python-3.x, utf-8)</td>\n      <td>17</td>\n      <td>0</td>\n      <td>41.0</td>\n      <td>NaN</td>\n      <td>NaN</td>\n      <td>CC BY-SA 3.0</td>\n      <td>0</td>\n      <td>1007</td>\n    </tr>\n  </tbody>\n</table>\n<p>3 rows × 25 columns</p>\n</div>"
     },
     "execution_count": 24,
     "metadata": {},
     "output_type": "execute_result"
    }
   ],
   "source": [
    "import re\n",
    "\n",
    "# Multiple spaces Regex\n",
    "SPACE_RE = re.compile(r'\\s+')\n",
    "\n",
    "# HTML Regex\n",
    "HTML_RE = re.compile(r'<[^>]+>')\n",
    "\n",
    "def clean_body(text):\n",
    "\n",
    "    # Replace multiple spaces with single space\n",
    "    text = SPACE_RE.sub(\" \", text)\n",
    "\n",
    "    # Remove HTML tags\n",
    "    text = HTML_RE.sub(\"\", text)\n",
    "\n",
    "    # Removes new line character\n",
    "    text = text.replace(\"\\r\", \" \")    # Mac before OS X\n",
    "    text = text.replace(\"\\n\", \" \")    # Linux / Max OS X\n",
    "    text = text.replace(\"\\r\\n\", \" \")  # Windows\n",
    "\n",
    "    # Remove punctuation signs\n",
    "    text = text.replace(\"?:!.,;\", \" \")\n",
    "\n",
    "    # Remove all the special characters\n",
    "    text = re.sub(r'\\W', \" \", text)\n",
    "\n",
    "    # Remove possessive pronouns\n",
    "    text = text.replace(\"'s\", \"\")\n",
    "\n",
    "    # Converting to Lowercase\n",
    "    text = text.lower()\n",
    "\n",
    "    return text\n",
    "\n",
    "\n",
    "def clean_tags(text: str):\n",
    "    # Remove opening tag character\n",
    "    text = text.replace('<', \"\")\n",
    "\n",
    "    # Crete a list of tags\n",
    "    # using the closing tag character\n",
    "    tags_list = text.split(\">\")\n",
    "\n",
    "    return tuple(tags_list[:-1])\n",
    "\n",
    "# Clean texts of the dataframe columns\n",
    "df['Body'] = df['Body'].apply(clean_body)\n",
    "df['Tags'] = df['Tags'].apply(clean_tags)\n",
    "\n",
    "df.head(3)"
   ],
   "metadata": {
    "collapsed": false,
    "pycharm": {
     "name": "#%%\n"
    }
   }
  },
  {
   "cell_type": "markdown",
   "source": [
    "### Dealing with the categories list\n",
    "\n",
    "Since there's hundreds of possible categories,\n",
    "another query was created to fetch them from the database.\n",
    "\n",
    "This dataset contains a single column with all categories\n",
    "that appears on the the questions dataset.\n",
    "\n",
    "The query can be found [here](https://data.stackexchange.com/stackoverflow/query/1320614/all-tags-used-with-python).\n"
   ],
   "metadata": {
    "collapsed": false,
    "pycharm": {
     "name": "#%% md\n"
    }
   }
  },
  {
   "cell_type": "code",
   "execution_count": 25,
   "outputs": [
    {
     "name": "stdout",
     "output_type": "stream",
     "text": [
      "(850, 500)\n",
      "(150,)\n"
     ]
    }
   ],
   "source": [
    "from sklearn.model_selection import train_test_split\n",
    "from sklearn import preprocessing, linear_model, naive_bayes, metrics, svm\n",
    "from sklearn.feature_extraction.text import TfidfVectorizer, CountVectorizer\n",
    "\n",
    "\n",
    "# Split the dataset into training and validation datasets\n",
    "train_x, test_x, train_y, test_y  = train_test_split(df[\"Body\"], df[\"isPandas\"], test_size=0.15)\n",
    "\n",
    "# Label encode the target variable\n",
    "encoder = preprocessing.LabelEncoder()\n",
    "train_y = encoder.fit_transform(train_y)\n",
    "test_y = encoder.fit_transform(test_y)\n",
    "\n",
    "tfidf = TfidfVectorizer(analyzer='word', stop_words= 'english', max_features=500)\n",
    "\n",
    "features_train = tfidf.fit_transform(train_x).toarray()\n",
    "features_test = tfidf.fit_transform(test_x).toarray()\n",
    "\n",
    "labels_train = train_y\n",
    "labels_test = test_y\n",
    "\n",
    "print(features_train.shape)\n",
    "print(labels_test.shape)"
   ],
   "metadata": {
    "collapsed": false,
    "pycharm": {
     "name": "#%%\n"
    }
   }
  },
  {
   "cell_type": "markdown",
   "source": [
    "## Random Forest\n"
   ],
   "metadata": {
    "collapsed": false
   }
  },
  {
   "cell_type": "code",
   "execution_count": 29,
   "outputs": [
    {
     "name": "stdout",
     "output_type": "stream",
     "text": [
      "\n",
      "The training accuracy is: \n",
      "1.0\n",
      "\n",
      "The test accuracy is: \n",
      "0.9666666666666667\n",
      "\n",
      "Classification report\n",
      "              precision    recall  f1-score   support\n",
      "\n",
      "           0       0.97      1.00      0.98       145\n",
      "           1       0.00      0.00      0.00         5\n",
      "\n",
      "    accuracy                           0.97       150\n",
      "   macro avg       0.48      0.50      0.49       150\n",
      "weighted avg       0.93      0.97      0.95       150\n",
      "\n",
      "[[145   0]\n",
      " [  5   0]]\n"
     ]
    },
    {
     "name": "stderr",
     "output_type": "stream",
     "text": [
      "/home/eduardo/PycharmProjects/DataMining/venv/lib/python3.8/site-packages/sklearn/metrics/_classification.py:1221: UndefinedMetricWarning: Precision and F-score are ill-defined and being set to 0.0 in labels with no predicted samples. Use `zero_division` parameter to control this behavior.\n",
      "  _warn_prf(average, modifier, msg_start, len(result))\n"
     ]
    }
   ],
   "source": [
    "from sklearn.ensemble import RandomForestClassifier\n",
    "from sklearn.metrics import classification_report, confusion_matrix, accuracy_score\n",
    "\n",
    "rfc = RandomForestClassifier()\n",
    "\n",
    "rfc.fit(features_train, labels_train)\n",
    "rfc_pred = rfc.predict(features_test)\n",
    "\n",
    "# Training accuracy\n",
    "print(\"\\nThe training accuracy is: \")\n",
    "print(accuracy_score(labels_train, rfc.predict(features_train)))\n",
    "\n",
    "\n",
    "# Test accuracy\n",
    "print(\"\\nThe test accuracy is: \")\n",
    "print(accuracy_score(labels_test, rfc_pred))\n",
    "\n",
    "# Classification report\n",
    "print(\"\\nClassification report\")\n",
    "print(classification_report(labels_test,rfc_pred))\n",
    "\n",
    "print(confusion_matrix(labels_test, rfc_pred))"
   ],
   "metadata": {
    "collapsed": false,
    "pycharm": {
     "name": "#%%\n"
    }
   }
  }
 ],
 "metadata": {
  "kernelspec": {
   "display_name": "Python 3",
   "language": "python",
   "name": "python3"
  },
  "language_info": {
   "codemirror_mode": {
    "name": "ipython",
    "version": 2
   },
   "file_extension": ".py",
   "mimetype": "text/x-python",
   "name": "python",
   "nbconvert_exporter": "python",
   "pygments_lexer": "ipython2",
   "version": "2.7.6"
  }
 },
 "nbformat": 4,
 "nbformat_minor": 0
}